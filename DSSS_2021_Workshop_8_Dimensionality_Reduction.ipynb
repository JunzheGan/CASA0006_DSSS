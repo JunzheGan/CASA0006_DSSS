{
 "cells": [
  {
   "cell_type": "markdown",
   "metadata": {},
   "source": [
    "<div style=\"float:left\">\n",
    "    <h1 style=\"width:600px\">Workshop 8: Dimensionality Reduction</h1>\n",
    "    <h3 style=\"width:600px\">CASA0006: Data Science for Spatial Systems</h3>\n",
    "    <h3 style=\"width:600px\">Author: Huanfa Chen</h3>\n",
    "</div>\n",
    "<div style=\"float:right\"><img width=\"100\" src=\"https://github.com/jreades/i2p/raw/master/img/casa_logo.jpg\" /></div>"
   ]
  },
  {
   "cell_type": "markdown",
   "metadata": {},
   "source": [
    "In this week's workshop, we will be revisiting the Boston house price dataset to see how we can use dimensionality reduction techniques to derive deeper understanding of the data.\n",
    "\n",
    "This week we will again be working with Python, using the Pandas and sklearn library.\n",
    "\n",
    "While we won't expect you to learn about every element of the data mining process, the intention is that you will be able to select and execute (using `sklearn`) an appropriate methodology for the in-depth analysis of your data. \n",
    "\n",
    "This tutorial will cover the use of **Principal Component Analysis (PCA)** and **t-SNE**. The methods used in `sklearn` are quickly and easily applicable across different approaches. By using a range of approaches, you'll begin to get a sense of how they differ in terms of function and output.\n",
    "\n",
    "Let's first import the basic libraries we will need. `Pandas` for data import and handling, `matplotlib` for graphing non-Pandas arrays, and `Numpy` for maths tools. **Run the script below to get started.**"
   ]
  },
  {
   "cell_type": "code",
   "execution_count": 1,
   "metadata": {},
   "outputs": [],
   "source": [
    "import numpy as np\n",
    "import matplotlib.pyplot as plt\n",
    "import pandas as pd\n",
    "\n",
    "pd.set_option('display.max_rows', 300) # specifies number of rows to show\n",
    "pd.options.display.float_format = '{:40,.4f}'.format # specifies default number format to 4 decimal places\n",
    "plt.style.use('ggplot') # specifies that graphs should use ggplot styling\n",
    "%matplotlib inline"
   ]
  },
  {
   "cell_type": "markdown",
   "metadata": {},
   "source": [
    "### Data Interrogation"
   ]
  },
  {
   "cell_type": "markdown",
   "metadata": {},
   "source": [
    "**Note: we have used this dataset in the clustering workshop.**\n",
    "\n",
    "The dataset you will use this week relates to house prices in Boston, USA. This dataset was put together by researchers at Carnegie Mellon University in the late 1970s to investigate the relationship between house prices and air pollution. There are 13 continous variables in the dataset and 1 binary-valued attribute (the **CHAS** attribute). According to the metadata [file](https://github.com/huanfachen/Spatial_Data_Science/blob/main/Dataset/metadata_boston_housing.txt), you will see the definition of these variables. Note that the variable of `MEDV` is the dependent variable and is excluded in the dimensionality reduction process.\n",
    "\n",
    "| Variable      | Meaning          |\n",
    "| ------------- | ------------- |\n",
    "| CRIM| per capta crime rate by town.\n",
    "| ZN| proportion of residential land zoned for lots over 25,000 sq.ft.\n",
    "| INDUS| proportion of non-retail business acres per town\n",
    "| CHAS| Charles River dummy variable (= 1 if tract bounds river; 0 otherwise)\n",
    "| NOX| nitric oxides concentration (parts per 10 million)\n",
    "| RM| average number of rooms per dwelling\n",
    "| AGE| proportion of owner-occupied units built prior to 1940\n",
    "| DIS| weighted distances to five Boston employment centres\n",
    "| RAD| index of accessibility to radial highways\n",
    "| TAX| full-value property-tax rate per \\$10,000\n",
    "| PTRATIO| pupil-teacher ratio by town\n",
    "| B| 1000(Bk - 0.63)^2 where Bk is the proportion of blacks by town\n",
    "| LSTAT| % lower status of the population\n",
    "| MEDV| Median value of owner-occupied home in $1000's.\n",
    "\n",
    "**In this workshop, we try to answer the following questions**:\n",
    "\n",
    "1. What is the result of using PCA on these variables?\n",
    "1. Can PCA improve the linear regression model?\n",
    "1. What are the implications of t-SNE on this dataset?\n",
    "\n",
    "**Based on what you know from using Pandas over the last few weeks, import the Boston housing dataset on Github as a Pandas dataframe (call it `boston`), inspect the data, calculate summary statistics on all attributes, and general simple plots of pairs of attributes.**"
   ]
  },
  {
   "cell_type": "code",
   "execution_count": 2,
   "metadata": {},
   "outputs": [],
   "source": [
    "boston = pd.read_csv('https://raw.githubusercontent.com/huanfachen/Spatial_Data_Science/main/Dataset/boston_housing.csv')"
   ]
  },
  {
   "cell_type": "code",
   "execution_count": 3,
   "metadata": {},
   "outputs": [
    {
     "name": "stdout",
     "output_type": "stream",
     "text": [
      "<class 'pandas.core.frame.DataFrame'>\n",
      "RangeIndex: 506 entries, 0 to 505\n",
      "Data columns (total 14 columns):\n",
      " #   Column   Non-Null Count  Dtype  \n",
      "---  ------   --------------  -----  \n",
      " 0   CRIM     506 non-null    float64\n",
      " 1   ZN       506 non-null    float64\n",
      " 2   INDUS    506 non-null    float64\n",
      " 3   CHAS     506 non-null    int64  \n",
      " 4   NOX      506 non-null    float64\n",
      " 5   RM       506 non-null    float64\n",
      " 6   AGE      506 non-null    float64\n",
      " 7   DIS      506 non-null    float64\n",
      " 8   RAD      506 non-null    int64  \n",
      " 9   TAX      506 non-null    int64  \n",
      " 10  PTRATIO  506 non-null    float64\n",
      " 11  B        506 non-null    float64\n",
      " 12  LSTAT    506 non-null    float64\n",
      " 13  MEDV     506 non-null    float64\n",
      "dtypes: float64(11), int64(3)\n",
      "memory usage: 55.5 KB\n"
     ]
    }
   ],
   "source": [
    "boston.info()"
   ]
  },
  {
   "cell_type": "code",
   "execution_count": 4,
   "metadata": {},
   "outputs": [
    {
     "data": {
      "text/html": [
       "<div>\n",
       "<style scoped>\n",
       "    .dataframe tbody tr th:only-of-type {\n",
       "        vertical-align: middle;\n",
       "    }\n",
       "\n",
       "    .dataframe tbody tr th {\n",
       "        vertical-align: top;\n",
       "    }\n",
       "\n",
       "    .dataframe thead th {\n",
       "        text-align: right;\n",
       "    }\n",
       "</style>\n",
       "<table border=\"1\" class=\"dataframe\">\n",
       "  <thead>\n",
       "    <tr style=\"text-align: right;\">\n",
       "      <th></th>\n",
       "      <th>CRIM</th>\n",
       "      <th>ZN</th>\n",
       "      <th>INDUS</th>\n",
       "      <th>CHAS</th>\n",
       "      <th>NOX</th>\n",
       "      <th>RM</th>\n",
       "      <th>AGE</th>\n",
       "      <th>DIS</th>\n",
       "      <th>RAD</th>\n",
       "      <th>TAX</th>\n",
       "      <th>PTRATIO</th>\n",
       "      <th>B</th>\n",
       "      <th>LSTAT</th>\n",
       "      <th>MEDV</th>\n",
       "    </tr>\n",
       "  </thead>\n",
       "  <tbody>\n",
       "    <tr>\n",
       "      <th>count</th>\n",
       "      <td>506.0000</td>\n",
       "      <td>506.0000</td>\n",
       "      <td>506.0000</td>\n",
       "      <td>506.0000</td>\n",
       "      <td>506.0000</td>\n",
       "      <td>506.0000</td>\n",
       "      <td>506.0000</td>\n",
       "      <td>506.0000</td>\n",
       "      <td>506.0000</td>\n",
       "      <td>506.0000</td>\n",
       "      <td>506.0000</td>\n",
       "      <td>506.0000</td>\n",
       "      <td>506.0000</td>\n",
       "      <td>506.0000</td>\n",
       "    </tr>\n",
       "    <tr>\n",
       "      <th>mean</th>\n",
       "      <td>3.6135</td>\n",
       "      <td>11.3636</td>\n",
       "      <td>11.1368</td>\n",
       "      <td>0.0692</td>\n",
       "      <td>0.5547</td>\n",
       "      <td>6.2846</td>\n",
       "      <td>68.5749</td>\n",
       "      <td>3.7950</td>\n",
       "      <td>9.5494</td>\n",
       "      <td>408.2372</td>\n",
       "      <td>18.4555</td>\n",
       "      <td>356.6740</td>\n",
       "      <td>12.6531</td>\n",
       "      <td>22.5328</td>\n",
       "    </tr>\n",
       "    <tr>\n",
       "      <th>std</th>\n",
       "      <td>8.6015</td>\n",
       "      <td>23.3225</td>\n",
       "      <td>6.8604</td>\n",
       "      <td>0.2540</td>\n",
       "      <td>0.1159</td>\n",
       "      <td>0.7026</td>\n",
       "      <td>28.1489</td>\n",
       "      <td>2.1057</td>\n",
       "      <td>8.7073</td>\n",
       "      <td>168.5371</td>\n",
       "      <td>2.1649</td>\n",
       "      <td>91.2949</td>\n",
       "      <td>7.1411</td>\n",
       "      <td>9.1971</td>\n",
       "    </tr>\n",
       "    <tr>\n",
       "      <th>min</th>\n",
       "      <td>0.0063</td>\n",
       "      <td>0.0000</td>\n",
       "      <td>0.4600</td>\n",
       "      <td>0.0000</td>\n",
       "      <td>0.3850</td>\n",
       "      <td>3.5610</td>\n",
       "      <td>2.9000</td>\n",
       "      <td>1.1296</td>\n",
       "      <td>1.0000</td>\n",
       "      <td>187.0000</td>\n",
       "      <td>12.6000</td>\n",
       "      <td>0.3200</td>\n",
       "      <td>1.7300</td>\n",
       "      <td>5.0000</td>\n",
       "    </tr>\n",
       "    <tr>\n",
       "      <th>25%</th>\n",
       "      <td>0.0820</td>\n",
       "      <td>0.0000</td>\n",
       "      <td>5.1900</td>\n",
       "      <td>0.0000</td>\n",
       "      <td>0.4490</td>\n",
       "      <td>5.8855</td>\n",
       "      <td>45.0250</td>\n",
       "      <td>2.1002</td>\n",
       "      <td>4.0000</td>\n",
       "      <td>279.0000</td>\n",
       "      <td>17.4000</td>\n",
       "      <td>375.3775</td>\n",
       "      <td>6.9500</td>\n",
       "      <td>17.0250</td>\n",
       "    </tr>\n",
       "    <tr>\n",
       "      <th>50%</th>\n",
       "      <td>0.2565</td>\n",
       "      <td>0.0000</td>\n",
       "      <td>9.6900</td>\n",
       "      <td>0.0000</td>\n",
       "      <td>0.5380</td>\n",
       "      <td>6.2085</td>\n",
       "      <td>77.5000</td>\n",
       "      <td>3.2074</td>\n",
       "      <td>5.0000</td>\n",
       "      <td>330.0000</td>\n",
       "      <td>19.0500</td>\n",
       "      <td>391.4400</td>\n",
       "      <td>11.3600</td>\n",
       "      <td>21.2000</td>\n",
       "    </tr>\n",
       "    <tr>\n",
       "      <th>75%</th>\n",
       "      <td>3.6771</td>\n",
       "      <td>12.5000</td>\n",
       "      <td>18.1000</td>\n",
       "      <td>0.0000</td>\n",
       "      <td>0.6240</td>\n",
       "      <td>6.6235</td>\n",
       "      <td>94.0750</td>\n",
       "      <td>5.1884</td>\n",
       "      <td>24.0000</td>\n",
       "      <td>666.0000</td>\n",
       "      <td>20.2000</td>\n",
       "      <td>396.2250</td>\n",
       "      <td>16.9550</td>\n",
       "      <td>25.0000</td>\n",
       "    </tr>\n",
       "    <tr>\n",
       "      <th>max</th>\n",
       "      <td>88.9762</td>\n",
       "      <td>100.0000</td>\n",
       "      <td>27.7400</td>\n",
       "      <td>1.0000</td>\n",
       "      <td>0.8710</td>\n",
       "      <td>8.7800</td>\n",
       "      <td>100.0000</td>\n",
       "      <td>12.1265</td>\n",
       "      <td>24.0000</td>\n",
       "      <td>711.0000</td>\n",
       "      <td>22.0000</td>\n",
       "      <td>396.9000</td>\n",
       "      <td>37.9700</td>\n",
       "      <td>50.0000</td>\n",
       "    </tr>\n",
       "  </tbody>\n",
       "</table>\n",
       "</div>"
      ],
      "text/plain": [
       "                                          CRIM  \\\n",
       "count                                 506.0000   \n",
       "mean                                    3.6135   \n",
       "std                                     8.6015   \n",
       "min                                     0.0063   \n",
       "25%                                     0.0820   \n",
       "50%                                     0.2565   \n",
       "75%                                     3.6771   \n",
       "max                                    88.9762   \n",
       "\n",
       "                                            ZN  \\\n",
       "count                                 506.0000   \n",
       "mean                                   11.3636   \n",
       "std                                    23.3225   \n",
       "min                                     0.0000   \n",
       "25%                                     0.0000   \n",
       "50%                                     0.0000   \n",
       "75%                                    12.5000   \n",
       "max                                   100.0000   \n",
       "\n",
       "                                         INDUS  \\\n",
       "count                                 506.0000   \n",
       "mean                                   11.1368   \n",
       "std                                     6.8604   \n",
       "min                                     0.4600   \n",
       "25%                                     5.1900   \n",
       "50%                                     9.6900   \n",
       "75%                                    18.1000   \n",
       "max                                    27.7400   \n",
       "\n",
       "                                          CHAS  \\\n",
       "count                                 506.0000   \n",
       "mean                                    0.0692   \n",
       "std                                     0.2540   \n",
       "min                                     0.0000   \n",
       "25%                                     0.0000   \n",
       "50%                                     0.0000   \n",
       "75%                                     0.0000   \n",
       "max                                     1.0000   \n",
       "\n",
       "                                           NOX  \\\n",
       "count                                 506.0000   \n",
       "mean                                    0.5547   \n",
       "std                                     0.1159   \n",
       "min                                     0.3850   \n",
       "25%                                     0.4490   \n",
       "50%                                     0.5380   \n",
       "75%                                     0.6240   \n",
       "max                                     0.8710   \n",
       "\n",
       "                                            RM  \\\n",
       "count                                 506.0000   \n",
       "mean                                    6.2846   \n",
       "std                                     0.7026   \n",
       "min                                     3.5610   \n",
       "25%                                     5.8855   \n",
       "50%                                     6.2085   \n",
       "75%                                     6.6235   \n",
       "max                                     8.7800   \n",
       "\n",
       "                                           AGE  \\\n",
       "count                                 506.0000   \n",
       "mean                                   68.5749   \n",
       "std                                    28.1489   \n",
       "min                                     2.9000   \n",
       "25%                                    45.0250   \n",
       "50%                                    77.5000   \n",
       "75%                                    94.0750   \n",
       "max                                   100.0000   \n",
       "\n",
       "                                           DIS  \\\n",
       "count                                 506.0000   \n",
       "mean                                    3.7950   \n",
       "std                                     2.1057   \n",
       "min                                     1.1296   \n",
       "25%                                     2.1002   \n",
       "50%                                     3.2074   \n",
       "75%                                     5.1884   \n",
       "max                                    12.1265   \n",
       "\n",
       "                                           RAD  \\\n",
       "count                                 506.0000   \n",
       "mean                                    9.5494   \n",
       "std                                     8.7073   \n",
       "min                                     1.0000   \n",
       "25%                                     4.0000   \n",
       "50%                                     5.0000   \n",
       "75%                                    24.0000   \n",
       "max                                    24.0000   \n",
       "\n",
       "                                           TAX  \\\n",
       "count                                 506.0000   \n",
       "mean                                  408.2372   \n",
       "std                                   168.5371   \n",
       "min                                   187.0000   \n",
       "25%                                   279.0000   \n",
       "50%                                   330.0000   \n",
       "75%                                   666.0000   \n",
       "max                                   711.0000   \n",
       "\n",
       "                                       PTRATIO  \\\n",
       "count                                 506.0000   \n",
       "mean                                   18.4555   \n",
       "std                                     2.1649   \n",
       "min                                    12.6000   \n",
       "25%                                    17.4000   \n",
       "50%                                    19.0500   \n",
       "75%                                    20.2000   \n",
       "max                                    22.0000   \n",
       "\n",
       "                                             B  \\\n",
       "count                                 506.0000   \n",
       "mean                                  356.6740   \n",
       "std                                    91.2949   \n",
       "min                                     0.3200   \n",
       "25%                                   375.3775   \n",
       "50%                                   391.4400   \n",
       "75%                                   396.2250   \n",
       "max                                   396.9000   \n",
       "\n",
       "                                         LSTAT  \\\n",
       "count                                 506.0000   \n",
       "mean                                   12.6531   \n",
       "std                                     7.1411   \n",
       "min                                     1.7300   \n",
       "25%                                     6.9500   \n",
       "50%                                    11.3600   \n",
       "75%                                    16.9550   \n",
       "max                                    37.9700   \n",
       "\n",
       "                                          MEDV  \n",
       "count                                 506.0000  \n",
       "mean                                   22.5328  \n",
       "std                                     9.1971  \n",
       "min                                     5.0000  \n",
       "25%                                    17.0250  \n",
       "50%                                    21.2000  \n",
       "75%                                    25.0000  \n",
       "max                                    50.0000  "
      ]
     },
     "execution_count": 4,
     "metadata": {},
     "output_type": "execute_result"
    }
   ],
   "source": [
    "boston.describe()"
   ]
  },
  {
   "cell_type": "markdown",
   "metadata": {},
   "source": [
    "## PCA"
   ]
  },
  {
   "cell_type": "markdown",
   "metadata": {},
   "source": [
    "PCA is a workhorse dimensionality reduction method, which is simple, fast, and effective. It can be thought of as freely rotating axes to align with directions of maximum variance. This is a nice summary of PCA:\n",
    "\n",
    "> PCA (Principal Components Analysis) gives us our ideal set of features. It creates a set of principal components that are **rank ordered by variance** (the first component has higher variance than the second, the second has higher variance than the third, and so on), **uncorrelated** (all components are orthogonal), and **low in number** (we can throw away the lower ranked components as they contain little signal).\n",
    "\n",
    "I also strongly recommend [this exposition](https://towardsdatascience.com/understanding-pca-fae3e243731d) in Towards Data Science.\n",
    "\n",
    "In this part, we will use the PCA for the given variables excluding the **MEDV** variable. The documentation of PCA in the ```sklearn``` package is [here ](https://scikit-learn.org/stable/modules/generated/sklearn.decomposition.PCA.html)."
   ]
  },
  {
   "cell_type": "code",
   "execution_count": 5,
   "metadata": {},
   "outputs": [],
   "source": [
    "# separate the independent and dependent variables\n",
    "X = boston.drop('MEDV', axis=1).values\n",
    "\n",
    "# the name list of independent variables\n",
    "list_var_X = boston.columns.tolist()\n",
    "list_var_X.remove('MEDV')\n",
    "\n",
    "y = boston.loc[:,['MEDV']].values"
   ]
  },
  {
   "cell_type": "code",
   "execution_count": 6,
   "metadata": {},
   "outputs": [],
   "source": [
    "# standardisation of the X. This is essential for PCA.\n",
    "from sklearn.preprocessing import StandardScaler\n",
    "X = StandardScaler().fit_transform(X)"
   ]
  },
  {
   "cell_type": "code",
   "execution_count": 7,
   "metadata": {},
   "outputs": [
    {
     "name": "stdout",
     "output_type": "stream",
     "text": [
      "Explained variance ratio of each component:\n",
      "[0.47129606 0.11025193 0.0955859  0.06596732 0.06421661 0.05056978\n",
      " 0.04118124 0.03046902 0.02130333 0.01694137 0.0143088  0.01302331\n",
      " 0.00488533]\n"
     ]
    }
   ],
   "source": [
    "from sklearn.decomposition import PCA\n",
    "rand_st_int = 10 \n",
    "pca = PCA(random_state=rand_st_int)\n",
    "# fit the components\n",
    "X_new_components = pca.fit_transform(X)\n",
    "print('Explained variance ratio of each component:')\n",
    "print(pca.explained_variance_ratio_)"
   ]
  },
  {
   "cell_type": "markdown",
   "metadata": {},
   "source": [
    "Next, we will inspect the components by creating a data frame. They are sorted by **explain_variance_**, meaning the proportion of variance of the data that is explained by this new dimension. Each row corresponds to a component, specifying how this component is formed via the linear combination of the original variables.\n",
    "\n",
    "**Can you identify which original variables are more important than the others for the first component?**"
   ]
  },
  {
   "cell_type": "code",
   "execution_count": 8,
   "metadata": {},
   "outputs": [
    {
     "name": "stdout",
     "output_type": "stream",
     "text": [
      "['CRIM', 'ZN', 'INDUS', 'CHAS', 'NOX', 'RM', 'AGE', 'DIS', 'RAD', 'TAX', 'PTRATIO', 'B', 'LSTAT']\n"
     ]
    }
   ],
   "source": [
    "print(list_var_X)"
   ]
  },
  {
   "cell_type": "code",
   "execution_count": 9,
   "metadata": {},
   "outputs": [
    {
     "data": {
      "text/html": [
       "<div>\n",
       "<style scoped>\n",
       "    .dataframe tbody tr th:only-of-type {\n",
       "        vertical-align: middle;\n",
       "    }\n",
       "\n",
       "    .dataframe tbody tr th {\n",
       "        vertical-align: top;\n",
       "    }\n",
       "\n",
       "    .dataframe thead th {\n",
       "        text-align: right;\n",
       "    }\n",
       "</style>\n",
       "<table border=\"1\" class=\"dataframe\">\n",
       "  <thead>\n",
       "    <tr style=\"text-align: right;\">\n",
       "      <th></th>\n",
       "      <th>CRIM</th>\n",
       "      <th>ZN</th>\n",
       "      <th>INDUS</th>\n",
       "      <th>CHAS</th>\n",
       "      <th>NOX</th>\n",
       "      <th>RM</th>\n",
       "      <th>AGE</th>\n",
       "      <th>DIS</th>\n",
       "      <th>RAD</th>\n",
       "      <th>TAX</th>\n",
       "      <th>PTRATIO</th>\n",
       "      <th>B</th>\n",
       "      <th>LSTAT</th>\n",
       "    </tr>\n",
       "  </thead>\n",
       "  <tbody>\n",
       "    <tr>\n",
       "      <th>0</th>\n",
       "      <td>0.2510</td>\n",
       "      <td>-0.2563</td>\n",
       "      <td>0.3467</td>\n",
       "      <td>0.0050</td>\n",
       "      <td>0.3429</td>\n",
       "      <td>-0.1892</td>\n",
       "      <td>0.3137</td>\n",
       "      <td>-0.3215</td>\n",
       "      <td>0.3198</td>\n",
       "      <td>0.3385</td>\n",
       "      <td>0.2049</td>\n",
       "      <td>-0.2030</td>\n",
       "      <td>0.3098</td>\n",
       "    </tr>\n",
       "    <tr>\n",
       "      <th>1</th>\n",
       "      <td>-0.3153</td>\n",
       "      <td>-0.3233</td>\n",
       "      <td>0.1125</td>\n",
       "      <td>0.4548</td>\n",
       "      <td>0.2191</td>\n",
       "      <td>0.1493</td>\n",
       "      <td>0.3120</td>\n",
       "      <td>-0.3491</td>\n",
       "      <td>-0.2715</td>\n",
       "      <td>-0.2395</td>\n",
       "      <td>-0.3059</td>\n",
       "      <td>0.2386</td>\n",
       "      <td>-0.0743</td>\n",
       "    </tr>\n",
       "    <tr>\n",
       "      <th>2</th>\n",
       "      <td>0.2466</td>\n",
       "      <td>0.2959</td>\n",
       "      <td>-0.0159</td>\n",
       "      <td>0.2898</td>\n",
       "      <td>0.1210</td>\n",
       "      <td>0.5940</td>\n",
       "      <td>-0.0177</td>\n",
       "      <td>-0.0497</td>\n",
       "      <td>0.2873</td>\n",
       "      <td>0.2207</td>\n",
       "      <td>-0.3234</td>\n",
       "      <td>-0.3001</td>\n",
       "      <td>-0.2670</td>\n",
       "    </tr>\n",
       "    <tr>\n",
       "      <th>3</th>\n",
       "      <td>0.0618</td>\n",
       "      <td>0.1287</td>\n",
       "      <td>0.0171</td>\n",
       "      <td>0.8159</td>\n",
       "      <td>-0.1282</td>\n",
       "      <td>-0.2806</td>\n",
       "      <td>-0.1752</td>\n",
       "      <td>0.2154</td>\n",
       "      <td>0.1323</td>\n",
       "      <td>0.1033</td>\n",
       "      <td>0.2826</td>\n",
       "      <td>0.1685</td>\n",
       "      <td>0.0694</td>\n",
       "    </tr>\n",
       "    <tr>\n",
       "      <th>4</th>\n",
       "      <td>0.0822</td>\n",
       "      <td>0.3206</td>\n",
       "      <td>-0.0078</td>\n",
       "      <td>0.0865</td>\n",
       "      <td>0.1369</td>\n",
       "      <td>-0.4234</td>\n",
       "      <td>0.0167</td>\n",
       "      <td>0.0986</td>\n",
       "      <td>-0.2041</td>\n",
       "      <td>-0.1305</td>\n",
       "      <td>-0.5840</td>\n",
       "      <td>-0.3456</td>\n",
       "      <td>0.3946</td>\n",
       "    </tr>\n",
       "    <tr>\n",
       "      <th>5</th>\n",
       "      <td>-0.2197</td>\n",
       "      <td>-0.3234</td>\n",
       "      <td>-0.0761</td>\n",
       "      <td>0.1675</td>\n",
       "      <td>-0.1530</td>\n",
       "      <td>0.0593</td>\n",
       "      <td>-0.0717</td>\n",
       "      <td>0.0234</td>\n",
       "      <td>-0.1432</td>\n",
       "      <td>-0.1929</td>\n",
       "      <td>0.2732</td>\n",
       "      <td>-0.8035</td>\n",
       "      <td>-0.0532</td>\n",
       "    </tr>\n",
       "    <tr>\n",
       "      <th>6</th>\n",
       "      <td>0.7776</td>\n",
       "      <td>-0.2750</td>\n",
       "      <td>-0.3396</td>\n",
       "      <td>0.0741</td>\n",
       "      <td>-0.1996</td>\n",
       "      <td>0.0639</td>\n",
       "      <td>0.1160</td>\n",
       "      <td>-0.1039</td>\n",
       "      <td>-0.1379</td>\n",
       "      <td>-0.3149</td>\n",
       "      <td>0.0023</td>\n",
       "      <td>0.0703</td>\n",
       "      <td>0.0870</td>\n",
       "    </tr>\n",
       "    <tr>\n",
       "      <th>7</th>\n",
       "      <td>0.1534</td>\n",
       "      <td>-0.4027</td>\n",
       "      <td>0.1739</td>\n",
       "      <td>-0.0247</td>\n",
       "      <td>0.0801</td>\n",
       "      <td>-0.3268</td>\n",
       "      <td>-0.6008</td>\n",
       "      <td>-0.1218</td>\n",
       "      <td>0.0804</td>\n",
       "      <td>0.0828</td>\n",
       "      <td>-0.3179</td>\n",
       "      <td>-0.0049</td>\n",
       "      <td>-0.4244</td>\n",
       "    </tr>\n",
       "    <tr>\n",
       "      <th>8</th>\n",
       "      <td>0.2604</td>\n",
       "      <td>0.3581</td>\n",
       "      <td>0.6444</td>\n",
       "      <td>-0.0137</td>\n",
       "      <td>-0.0185</td>\n",
       "      <td>0.0479</td>\n",
       "      <td>-0.0676</td>\n",
       "      <td>-0.1533</td>\n",
       "      <td>-0.4709</td>\n",
       "      <td>-0.1766</td>\n",
       "      <td>0.2544</td>\n",
       "      <td>-0.0449</td>\n",
       "      <td>-0.1952</td>\n",
       "    </tr>\n",
       "    <tr>\n",
       "      <th>9</th>\n",
       "      <td>0.0194</td>\n",
       "      <td>0.2675</td>\n",
       "      <td>-0.3635</td>\n",
       "      <td>-0.0062</td>\n",
       "      <td>0.2311</td>\n",
       "      <td>-0.4314</td>\n",
       "      <td>0.3628</td>\n",
       "      <td>-0.1712</td>\n",
       "      <td>0.0219</td>\n",
       "      <td>-0.0352</td>\n",
       "      <td>0.1534</td>\n",
       "      <td>-0.0965</td>\n",
       "      <td>-0.6007</td>\n",
       "    </tr>\n",
       "    <tr>\n",
       "      <th>10</th>\n",
       "      <td>-0.1096</td>\n",
       "      <td>0.2628</td>\n",
       "      <td>-0.3032</td>\n",
       "      <td>0.0139</td>\n",
       "      <td>0.1113</td>\n",
       "      <td>0.0532</td>\n",
       "      <td>-0.4592</td>\n",
       "      <td>-0.6957</td>\n",
       "      <td>0.0365</td>\n",
       "      <td>-0.1048</td>\n",
       "      <td>0.1745</td>\n",
       "      <td>0.0193</td>\n",
       "      <td>0.2714</td>\n",
       "    </tr>\n",
       "    <tr>\n",
       "      <th>11</th>\n",
       "      <td>0.0868</td>\n",
       "      <td>-0.0714</td>\n",
       "      <td>-0.1132</td>\n",
       "      <td>-0.0040</td>\n",
       "      <td>0.8043</td>\n",
       "      <td>0.1529</td>\n",
       "      <td>-0.2119</td>\n",
       "      <td>0.3909</td>\n",
       "      <td>-0.1070</td>\n",
       "      <td>-0.2152</td>\n",
       "      <td>0.2096</td>\n",
       "      <td>0.0417</td>\n",
       "      <td>0.0552</td>\n",
       "    </tr>\n",
       "    <tr>\n",
       "      <th>12</th>\n",
       "      <td>0.0460</td>\n",
       "      <td>-0.0809</td>\n",
       "      <td>-0.2511</td>\n",
       "      <td>0.0359</td>\n",
       "      <td>0.0436</td>\n",
       "      <td>0.0456</td>\n",
       "      <td>-0.0386</td>\n",
       "      <td>-0.0183</td>\n",
       "      <td>-0.6335</td>\n",
       "      <td>0.7202</td>\n",
       "      <td>0.0234</td>\n",
       "      <td>-0.0045</td>\n",
       "      <td>0.0244</td>\n",
       "    </tr>\n",
       "  </tbody>\n",
       "</table>\n",
       "</div>"
      ],
      "text/plain": [
       "                                       CRIM  \\\n",
       "0                                    0.2510   \n",
       "1                                   -0.3153   \n",
       "2                                    0.2466   \n",
       "3                                    0.0618   \n",
       "4                                    0.0822   \n",
       "5                                   -0.2197   \n",
       "6                                    0.7776   \n",
       "7                                    0.1534   \n",
       "8                                    0.2604   \n",
       "9                                    0.0194   \n",
       "10                                  -0.1096   \n",
       "11                                   0.0868   \n",
       "12                                   0.0460   \n",
       "\n",
       "                                         ZN  \\\n",
       "0                                   -0.2563   \n",
       "1                                   -0.3233   \n",
       "2                                    0.2959   \n",
       "3                                    0.1287   \n",
       "4                                    0.3206   \n",
       "5                                   -0.3234   \n",
       "6                                   -0.2750   \n",
       "7                                   -0.4027   \n",
       "8                                    0.3581   \n",
       "9                                    0.2675   \n",
       "10                                   0.2628   \n",
       "11                                  -0.0714   \n",
       "12                                  -0.0809   \n",
       "\n",
       "                                      INDUS  \\\n",
       "0                                    0.3467   \n",
       "1                                    0.1125   \n",
       "2                                   -0.0159   \n",
       "3                                    0.0171   \n",
       "4                                   -0.0078   \n",
       "5                                   -0.0761   \n",
       "6                                   -0.3396   \n",
       "7                                    0.1739   \n",
       "8                                    0.6444   \n",
       "9                                   -0.3635   \n",
       "10                                  -0.3032   \n",
       "11                                  -0.1132   \n",
       "12                                  -0.2511   \n",
       "\n",
       "                                       CHAS  \\\n",
       "0                                    0.0050   \n",
       "1                                    0.4548   \n",
       "2                                    0.2898   \n",
       "3                                    0.8159   \n",
       "4                                    0.0865   \n",
       "5                                    0.1675   \n",
       "6                                    0.0741   \n",
       "7                                   -0.0247   \n",
       "8                                   -0.0137   \n",
       "9                                   -0.0062   \n",
       "10                                   0.0139   \n",
       "11                                  -0.0040   \n",
       "12                                   0.0359   \n",
       "\n",
       "                                        NOX  \\\n",
       "0                                    0.3429   \n",
       "1                                    0.2191   \n",
       "2                                    0.1210   \n",
       "3                                   -0.1282   \n",
       "4                                    0.1369   \n",
       "5                                   -0.1530   \n",
       "6                                   -0.1996   \n",
       "7                                    0.0801   \n",
       "8                                   -0.0185   \n",
       "9                                    0.2311   \n",
       "10                                   0.1113   \n",
       "11                                   0.8043   \n",
       "12                                   0.0436   \n",
       "\n",
       "                                         RM  \\\n",
       "0                                   -0.1892   \n",
       "1                                    0.1493   \n",
       "2                                    0.5940   \n",
       "3                                   -0.2806   \n",
       "4                                   -0.4234   \n",
       "5                                    0.0593   \n",
       "6                                    0.0639   \n",
       "7                                   -0.3268   \n",
       "8                                    0.0479   \n",
       "9                                   -0.4314   \n",
       "10                                   0.0532   \n",
       "11                                   0.1529   \n",
       "12                                   0.0456   \n",
       "\n",
       "                                        AGE  \\\n",
       "0                                    0.3137   \n",
       "1                                    0.3120   \n",
       "2                                   -0.0177   \n",
       "3                                   -0.1752   \n",
       "4                                    0.0167   \n",
       "5                                   -0.0717   \n",
       "6                                    0.1160   \n",
       "7                                   -0.6008   \n",
       "8                                   -0.0676   \n",
       "9                                    0.3628   \n",
       "10                                  -0.4592   \n",
       "11                                  -0.2119   \n",
       "12                                  -0.0386   \n",
       "\n",
       "                                        DIS  \\\n",
       "0                                   -0.3215   \n",
       "1                                   -0.3491   \n",
       "2                                   -0.0497   \n",
       "3                                    0.2154   \n",
       "4                                    0.0986   \n",
       "5                                    0.0234   \n",
       "6                                   -0.1039   \n",
       "7                                   -0.1218   \n",
       "8                                   -0.1533   \n",
       "9                                   -0.1712   \n",
       "10                                  -0.6957   \n",
       "11                                   0.3909   \n",
       "12                                  -0.0183   \n",
       "\n",
       "                                        RAD  \\\n",
       "0                                    0.3198   \n",
       "1                                   -0.2715   \n",
       "2                                    0.2873   \n",
       "3                                    0.1323   \n",
       "4                                   -0.2041   \n",
       "5                                   -0.1432   \n",
       "6                                   -0.1379   \n",
       "7                                    0.0804   \n",
       "8                                   -0.4709   \n",
       "9                                    0.0219   \n",
       "10                                   0.0365   \n",
       "11                                  -0.1070   \n",
       "12                                  -0.6335   \n",
       "\n",
       "                                        TAX  \\\n",
       "0                                    0.3385   \n",
       "1                                   -0.2395   \n",
       "2                                    0.2207   \n",
       "3                                    0.1033   \n",
       "4                                   -0.1305   \n",
       "5                                   -0.1929   \n",
       "6                                   -0.3149   \n",
       "7                                    0.0828   \n",
       "8                                   -0.1766   \n",
       "9                                   -0.0352   \n",
       "10                                  -0.1048   \n",
       "11                                  -0.2152   \n",
       "12                                   0.7202   \n",
       "\n",
       "                                    PTRATIO  \\\n",
       "0                                    0.2049   \n",
       "1                                   -0.3059   \n",
       "2                                   -0.3234   \n",
       "3                                    0.2826   \n",
       "4                                   -0.5840   \n",
       "5                                    0.2732   \n",
       "6                                    0.0023   \n",
       "7                                   -0.3179   \n",
       "8                                    0.2544   \n",
       "9                                    0.1534   \n",
       "10                                   0.1745   \n",
       "11                                   0.2096   \n",
       "12                                   0.0234   \n",
       "\n",
       "                                          B  \\\n",
       "0                                   -0.2030   \n",
       "1                                    0.2386   \n",
       "2                                   -0.3001   \n",
       "3                                    0.1685   \n",
       "4                                   -0.3456   \n",
       "5                                   -0.8035   \n",
       "6                                    0.0703   \n",
       "7                                   -0.0049   \n",
       "8                                   -0.0449   \n",
       "9                                   -0.0965   \n",
       "10                                   0.0193   \n",
       "11                                   0.0417   \n",
       "12                                  -0.0045   \n",
       "\n",
       "                                      LSTAT  \n",
       "0                                    0.3098  \n",
       "1                                   -0.0743  \n",
       "2                                   -0.2670  \n",
       "3                                    0.0694  \n",
       "4                                    0.3946  \n",
       "5                                   -0.0532  \n",
       "6                                    0.0870  \n",
       "7                                   -0.4244  \n",
       "8                                   -0.1952  \n",
       "9                                   -0.6007  \n",
       "10                                   0.2714  \n",
       "11                                   0.0552  \n",
       "12                                   0.0244  "
      ]
     },
     "execution_count": 9,
     "metadata": {},
     "output_type": "execute_result"
    }
   ],
   "source": [
    "df_PrincipleComp = pd.DataFrame(pca.components_, columns = list_var_X)\n",
    "df_PrincipleComp"
   ]
  },
  {
   "cell_type": "markdown",
   "metadata": {},
   "source": [
    "As below, you can see the proportion of variance explained by each component."
   ]
  },
  {
   "cell_type": "code",
   "execution_count": 9,
   "metadata": {},
   "outputs": [
    {
     "name": "stdout",
     "output_type": "stream",
     "text": [
      "Explained variance ratio of each component:\n",
      "[0.47129606 0.11025193 0.0955859  0.06596732 0.06421661 0.05056978\n",
      " 0.04118124 0.03046902 0.02130333 0.01694137 0.0143088  0.01302331\n",
      " 0.00488533]\n"
     ]
    }
   ],
   "source": [
    "print('Explained variance ratio of each component:')\n",
    "print(pca.explained_variance_ratio_)"
   ]
  },
  {
   "cell_type": "markdown",
   "metadata": {},
   "source": [
    "You can get the eigen values of the PCA. The ```..explained_variance_``` gives the actual eigen values."
   ]
  },
  {
   "cell_type": "code",
   "execution_count": 10,
   "metadata": {},
   "outputs": [
    {
     "name": "stdout",
     "output_type": "stream",
     "text": [
      "Eigenvalues of each component:\n",
      "[6.1389812  1.43611329 1.2450773  0.85927328 0.83646904 0.65870897\n",
      " 0.5364162  0.39688167 0.27749173 0.22067394 0.18638271 0.16963823\n",
      " 0.06363502]\n"
     ]
    }
   ],
   "source": [
    "print('Eigenvalues of each component:')\n",
    "print(pca.explained_variance_)"
   ]
  },
  {
   "cell_type": "markdown",
   "metadata": {},
   "source": [
    "One of the use of PCA is to visualise high-dimensional data. Here we can visualise the first two components."
   ]
  },
  {
   "cell_type": "code",
   "execution_count": 11,
   "metadata": {},
   "outputs": [
    {
     "data": {
      "text/plain": [
       "Text(0, 0.5, 'PC2')"
      ]
     },
     "execution_count": 11,
     "metadata": {},
     "output_type": "execute_result"
    },
    {
     "data": {
      "image/png": "[encoded data removed]",
      "text/plain": [
       "<Figure size 432x288 with 1 Axes>"
      ]
     },
     "metadata": {
      "needs_background": "light"
     },
     "output_type": "display_data"
    }
   ],
   "source": [
    "df_X_new_coord = pd.DataFrame(X_new_components)\n",
    "ax = df_X_new_coord.plot.scatter(x = 0, y = 1)\n",
    "ax.set_xlabel(\"PC1\")\n",
    "ax.set_ylabel(\"PC2\")"
   ]
  },
  {
   "cell_type": "markdown",
   "metadata": {},
   "source": [
    "This graph is not very informative or useful though. However, if you have an extra label for the data points (e.g. high, medium, and low-price), you can colour the points by the labels and check if each category forms a cluster in the new new space.\n",
    "\n",
    "I like [this example](https://cmdlinetips.com/2018/03/pca-example-in-python-with-scikit-learn/) of using PCA for visualising data clusters."
   ]
  },
  {
   "cell_type": "markdown",
   "metadata": {},
   "source": [
    "## Selecting the number of components"
   ]
  },
  {
   "cell_type": "markdown",
   "metadata": {},
   "source": [
    "In the lecture, we talked about three methods to select the number of PCA components.\n",
    "\n",
    "1. Using two or three dimensions for visualisation;\n",
    "2. Retaining components with eigenvalues larger than one;\n",
    "3. Using Scree plot to locate a point that occurs just before the Scree plot flattens out.\n",
    "\n",
    "Following the Rule 2, we would choose three components from PCA, as they have eigenvalues larger than one.\n",
    "\n",
    "How about Rule 3? Let's try the Scree plot."
   ]
  },
  {
   "cell_type": "code",
   "execution_count": 12,
   "metadata": {},
   "outputs": [
    {
     "data": {
      "text/plain": [
       "<AxesSubplot:xlabel='PC'>"
      ]
     },
     "execution_count": 12,
     "metadata": {},
     "output_type": "execute_result"
    },
    {
     "data": {
      "image/png": "[encoded data removed]",
      "text/plain": [
       "<Figure size 432x288 with 1 Axes>"
      ]
     },
     "metadata": {
      "needs_background": "light"
     },
     "output_type": "display_data"
    }
   ],
   "source": [
    "df = pd.DataFrame({'eigenvalue':pca.explained_variance_,\n",
    "             'PC':list(range(1, pca.n_components_ + 1))})\n",
    "df.plot.line(x = 'PC', y = 'eigenvalue')"
   ]
  },
  {
   "cell_type": "markdown",
   "metadata": {},
   "source": [
    "The point just before the graph flattens out is ```PC=2```, so two components should be chosen.\n",
    "\n",
    "In practice, you can decide which rule to use."
   ]
  },
  {
   "cell_type": "markdown",
   "metadata": {},
   "source": [
    "## Linear Regression"
   ]
  },
  {
   "cell_type": "markdown",
   "metadata": {},
   "source": [
    "Another use of PCA is that it may improve the performance of data analysis. First, if only a few principal components are used for model training, the required memory and computation time is reduced. Second, as the principal components are linearly independent, they are not subject to the multicollinearity issue. \n",
    "\n",
    "To demonstrate this, let us build a multiple linear regression model to predict the house price, and then compare it with another linear regression model using three components in the next part.\n",
    "\n",
    "### Step 1: split the data into training and testing set. \n",
    "\n",
    "Remember that this is very important to measure the predictive performance of the models."
   ]
  },
  {
   "cell_type": "code",
   "execution_count": 13,
   "metadata": {},
   "outputs": [],
   "source": [
    "from sklearn.model_selection import train_test_split\n",
    "split_rand_state = 1\n",
    "train_X, test_X, train_y, test_y = train_test_split(X, y, random_state=split_rand_state)"
   ]
  },
  {
   "cell_type": "markdown",
   "metadata": {},
   "source": [
    "### Step 2: build a linear regression model using the training data"
   ]
  },
  {
   "cell_type": "code",
   "execution_count": 14,
   "metadata": {},
   "outputs": [
    {
     "data": {
      "text/plain": [
       "LinearRegression()"
      ]
     },
     "execution_count": 14,
     "metadata": {},
     "output_type": "execute_result"
    }
   ],
   "source": [
    "from sklearn.linear_model import LinearRegression\n",
    "lr = LinearRegression()\n",
    "lr.fit(X=train_X, y=train_y)"
   ]
  },
  {
   "cell_type": "markdown",
   "metadata": {},
   "source": [
    "### Step 3: measure model performance using the testing data\n",
    "\n",
    "We use R2 as the performance metric for linear regression."
   ]
  },
  {
   "cell_type": "code",
   "execution_count": 15,
   "metadata": {},
   "outputs": [
    {
     "data": {
      "text/plain": [
       "0.7789410172622857"
      ]
     },
     "execution_count": 15,
     "metadata": {},
     "output_type": "execute_result"
    }
   ],
   "source": [
    "lr.score(X=test_X, y=test_y)"
   ]
  },
  {
   "cell_type": "markdown",
   "metadata": {},
   "source": [
    "## PCA regression"
   ]
  },
  {
   "cell_type": "markdown",
   "metadata": {},
   "source": [
    "We will try to build another linear regression model using the principal components. This method is called **Principle Component Regression** (denoted by PCR). See [this post](https://blogs.sas.com/content/iml/2017/10/25/principal-component-regression-drawbacks.html) for the pros and cons of this method. \n",
    "\n",
    "One of the main advantages of using PCR is that it can perform regression when the independent variables are highly correlated or collinear.\n",
    "\n",
    "In this part, we will use the first three principal components in the regression."
   ]
  },
  {
   "cell_type": "code",
   "execution_count": 16,
   "metadata": {},
   "outputs": [],
   "source": [
    "# create a new X dataset including three PCs\n",
    "X_three_pc = X_new_components[:,[0,1,2]]"
   ]
  },
  {
   "cell_type": "code",
   "execution_count": 17,
   "metadata": {},
   "outputs": [],
   "source": [
    "# split the traing and testing dataset\n",
    "split_rand_state = 1\n",
    "train_X_pc, test_X_pc, train_y_pc, test_y_pc = train_test_split(X_three_pc, y, random_state=split_rand_state)"
   ]
  },
  {
   "cell_type": "code",
   "execution_count": 18,
   "metadata": {},
   "outputs": [
    {
     "data": {
      "text/plain": [
       "LinearRegression()"
      ]
     },
     "execution_count": 18,
     "metadata": {},
     "output_type": "execute_result"
    }
   ],
   "source": [
    "# train a new model\n",
    "lr_pc = LinearRegression()\n",
    "lr_pc.fit(X=train_X_pc, y=train_y_pc)"
   ]
  },
  {
   "cell_type": "code",
   "execution_count": 19,
   "metadata": {},
   "outputs": [
    {
     "data": {
      "text/plain": [
       "0.6967605839062907"
      ]
     },
     "execution_count": 19,
     "metadata": {},
     "output_type": "execute_result"
    }
   ],
   "source": [
    "# measure the model performance\n",
    "lr_pc.score(X=test_X_pc, y=test_y_pc)"
   ]
  },
  {
   "cell_type": "markdown",
   "metadata": {},
   "source": [
    "The R2 score shows that the performance of the new model is not as good as the previous one. This indicaetes that PCR does not always lead to a more accurate model. This can be explained by that some information of the dataset is lost when only the three components are used. Another potential reason is that \"there is no a priori reason to believe that the principal components with the largest variance are the components that best predict the response\", which is discussed in this [post](https://blogs.sas.com/content/iml/2017/10/25/principal-component-regression-drawbacks.html).\n",
    "\n",
    "We have demonstrated how to use principal components in regression. Next we are going to practice another dimensionality reduction technique, **t-Distributed Stochastic Neighbor Embedding** (t-SNE)."
   ]
  },
  {
   "cell_type": "markdown",
   "metadata": {},
   "source": [
    "# t-SNE"
   ]
  },
  {
   "cell_type": "markdown",
   "metadata": {},
   "source": [
    "t-Distributed Stochastic Neighbour Embedding is best understood as a **visualisation** technique, not an **analytical** one. This is because it is *probabilistic* and not *deterministic*. \n",
    "\n",
    "![](https://github.com/huanfachen/Spatial_Data_Science/raw/main/Images/tsne-fashion.png)\n",
    "\n",
    "In this part, we will use t-SNE to visualise the dataset in a 2-D plot.\n",
    "\n",
    "In practice, the choice of ```perplexity``` and ```n_iter``` at instantiation matters. We ignore the ```n_iter``` and use the default value of 1000 for this parameter. [Here](https://scikit-learn.org/stable/auto_examples/manifold/plot_t_sne_perplexity.html) is a good post on the effect of the ```perplexity``` parameter on the result.\n",
    "\n",
    "Note that t-SNE is much harder computationally and it may be preferrable on very high-dim data sets to apply PCA first and then t-SNE to the reduced data set.\n",
    "\n",
    "We will test a range of perplexity values between 5 and 50 on the Boston house price dataset. The computation time will be recorded and printed, as t-SNE might be quite slow for a large dataset."
   ]
  },
  {
   "cell_type": "code",
   "execution_count": 20,
   "metadata": {},
   "outputs": [
    {
     "name": "stdout",
     "output_type": "stream",
     "text": [
      "circles, perplexity=5 in 10 sec\n",
      "circles, perplexity=10 in 12 sec\n",
      "circles, perplexity=20 in 8.6 sec\n",
      "circles, perplexity=50 in 10 sec\n"
     ]
    },
    {
     "data": {
      "image/png": "[encoded data removed]",
      "text/plain": [
       "<Figure size 1080x288 with 4 Axes>"
      ]
     },
     "metadata": {
      "needs_background": "light"
     },
     "output_type": "display_data"
    }
   ],
   "source": [
    "from matplotlib.ticker import NullFormatter\n",
    "from sklearn import manifold, datasets\n",
    "from time import time\n",
    "\n",
    "# 2 new dimensions will be generated by t-SNE\n",
    "n_components = 2\n",
    "(fig, subplots) = plt.subplots(1, 4, figsize=(15, 4), squeeze=False)\n",
    "perplexities = [5, 10, 20, 50]\n",
    "plt.axis('tight')\n",
    "\n",
    "for i, perplexity in enumerate(perplexities):\n",
    "    ax = subplots[0][i]\n",
    "\n",
    "    t0 = time()\n",
    "    tsne = manifold.TSNE(n_components=n_components, init='random',\n",
    "                         random_state=0, perplexity=perplexity)\n",
    "    X_tsne = tsne.fit_transform(X)\n",
    "    t1 = time()\n",
    "    print(\"circles, perplexity=%d in %.2g sec\" % (perplexity, t1 - t0))\n",
    "    ax.set_title(\"Perplexity=%d\" % perplexity)\n",
    "    ax.scatter(X_tsne[:, 0], X_tsne[:, 1])\n",
    "    ax.xaxis.set_major_formatter(NullFormatter())\n",
    "    ax.yaxis.set_major_formatter(NullFormatter())\n",
    "    ax.axis('tight')"
   ]
  },
  {
   "cell_type": "markdown",
   "metadata": {},
   "source": [
    "The result shows different patterns of the house price dataset. However, it is not very useful as we haven't put labels to the points.\n",
    "\n",
    "If you are interested in this method, you can further explore in these directions:\n",
    "\n",
    "1. Perform clustering analysis on the dataset to get the cluster labels, and use t-SNE to visualise the clustering result by using the cluster number as labels.\n",
    "2. Divide the **MEDV** variable into several intervals, and use it as the labels of points in the t-SNE plot. Be careful with the cut-off values. Can you find any relatinship between the house price and t-SNE results? Is there a cluster of high-price house in the plot?"
   ]
  },
  {
   "cell_type": "markdown",
   "metadata": {},
   "source": [
    "# Conclusion"
   ]
  },
  {
   "cell_type": "markdown",
   "metadata": {},
   "source": [
    "In this workshop, we have practiced PCA, PCA regression, and t-SNE on the Boston housing data. \n",
    "\n",
    "You can use these methods on your own dataset, especially when the data have a high dimension is difficult to understand and analyse.\n",
    "\n",
    "If you are interested, you can learn other methods for dimensionality reduction, such as UMAP. The resource below would be useful."
   ]
  },
  {
   "cell_type": "markdown",
   "metadata": {},
   "source": [
    "# Resources"
   ]
  },
  {
   "cell_type": "markdown",
   "metadata": {},
   "source": [
    "- Rethinking 'distance' in New York City *Medium* [URL](https://medium.com/topos-ai/rethinking-distance-in-new-york-city-d17212d24919)\n",
    "- Five Boroughs for the 21st Century *Medium* [URL](https://medium.com/topos-ai/five-boroughs-for-the-21st-century-8da941f53618)\n",
    "- [Curse of Dimensionality](https://en.wikipedia.org/wiki/Curse_of_dimensionality)\n",
    "- [The Curse of Dimensionality](https://towardsdatascience.com/the-curse-of-dimensionality-50dc6e49aa1e)\n",
    "- [Importance of Feature Scaling](https://scikit-learn.org/stable/auto_examples/preprocessing/plot_scaling_importance.html)\n",
    "- [Understanding PCA](https://towardsdatascience.com/understanding-pca-fae3e243731d)\n",
    "- [Introduction to t-SNE in Python](https://www.datacamp.com/community/tutorials/introduction-t-sne)\n",
    "- [How to Use t-SNE Effectively](https://distill.pub/2016/misread-tsne/)\n",
    "- [How to tune the Hyperparameters of t-SNE](https://towardsdatascience.com/how-to-tune-hyperparameters-of-tsne-7c0596a18868)\n",
    "- [Understanding UMAP](https://pair-code.github.io/understanding-umap/) (Compares to t-SNE)\n",
    "- [How UMAP Works](https://towardsdatascience.com/how-exactly-umap-works-13e3040e1668)\n",
    "- [3 New Techniques for Data-Dimensionality Reduction in ML](https://thenewstack.io/3-new-techniques-for-data-dimensionality-reduction-in-machine-learning/)\n",
    "- [UMAP for Dimensionality Reduction](https://www.youtube.com/watch?v=nq6iPZVUxZU) (Video)\n",
    "- [A Bluffer's Guide to Dimensionality Reduction](https://www.youtube.com/watch?v=9iol3Lk6kyU) (Video)"
   ]
  },
  {
   "cell_type": "markdown",
   "metadata": {},
   "source": [
    "# Acknowledgements\n",
    "\n",
    "This workshop is partly based on a [notebook](https://github.com/jreades/i2p/blob/master/lectures/9.3-Dimensionality.md) developed by [Jon Reades](https://github.com/jreades), which is part of the CASA00013 module."
   ]
  }
 ],
 "metadata": {
  "kernelspec": {
   "display_name": "Python 3",
   "language": "python",
   "name": "python3"
  },
  "language_info": {
   "codemirror_mode": {
    "name": "ipython",
    "version": 3
   },
   "file_extension": ".py",
   "mimetype": "text/x-python",
   "name": "python",
   "nbconvert_exporter": "python",
   "pygments_lexer": "ipython3",
   "version": "3.7.8"
  }
 },
 "nbformat": 4,
 "nbformat_minor": 4
}
